{
 "cells": [
  {
   "cell_type": "code",
   "execution_count": null,
   "id": "275c1ae5",
   "metadata": {},
   "outputs": [],
   "source": [
    "import pandas as pd \n",
    "import numpy as np\n",
    "\n",
    "#Hello world"
   ]
  }
 ],
 "metadata": {
  "kernelspec": {
   "display_name": "mac-env",
   "language": "python",
   "name": "python3"
  },
  "language_info": {
   "name": "python",
   "version": "3.12.11"
  }
 },
 "nbformat": 4,
 "nbformat_minor": 5
}
