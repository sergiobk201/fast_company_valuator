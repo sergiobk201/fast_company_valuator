{
 "cells": [
  {
   "cell_type": "code",
   "execution_count": 1,
   "id": "275c1ae5",
   "metadata": {},
   "outputs": [],
   "source": [
    "import pandas as pd \n",
    "import numpy as np\n",
    "import os\n",
    "from fmpapi import fmp_get\n",
    "from dotenv import load_dotenv\n",
    "import pyarrow\n",
    "\n",
    "load_dotenv()\n",
    "api_key = os.getenv('FMP_API_KEY')\n"
   ]
  },
  {
   "cell_type": "code",
   "execution_count": 2,
   "id": "b6e0107c",
   "metadata": {},
   "outputs": [],
   "source": [
    "bs = fmp_get(\n",
    "\n",
    "  resource=\"balance-sheet-statement\", \n",
    "  symbol=\"AAPL\", \n",
    "  params={\"period\": \"annual\", \"limit\": 5},\n",
    "  to_pandas=True\n",
    ")"
   ]
  },
  {
   "cell_type": "code",
   "execution_count": null,
   "id": "3ab0e035",
   "metadata": {},
   "outputs": [],
   "source": [
    "cf = fmp_get(\n",
    "    resource='cash-flow-statement',\n",
    "    symbol='AAPL',\n",
    "    params={'period':'annual', 'limit':5},\n",
    "    to_pandas=True\n",
    ")"
   ]
  },
  {
   "cell_type": "code",
   "execution_count": 5,
   "id": "b4bc72ca",
   "metadata": {},
   "outputs": [
    {
     "data": {
      "application/vnd.microsoft.datawrangler.viewer.v0+json": {
       "columns": [
        {
         "name": "index",
         "rawType": "int64",
         "type": "integer"
        },
        {
         "name": "date",
         "rawType": "datetime64[ms]",
         "type": "unknown"
        },
        {
         "name": "symbol",
         "rawType": "object",
         "type": "string"
        },
        {
         "name": "reported_currency",
         "rawType": "object",
         "type": "string"
        },
        {
         "name": "cik",
         "rawType": "object",
         "type": "string"
        },
        {
         "name": "filling_date",
         "rawType": "datetime64[ms]",
         "type": "unknown"
        },
        {
         "name": "accepted_date",
         "rawType": "datetime64[us]",
         "type": "unknown"
        },
        {
         "name": "calendar_year",
         "rawType": "int32",
         "type": "integer"
        },
        {
         "name": "period",
         "rawType": "object",
         "type": "string"
        },
        {
         "name": "net_income",
         "rawType": "int64",
         "type": "integer"
        },
        {
         "name": "depreciation_and_amortization",
         "rawType": "int64",
         "type": "integer"
        },
        {
         "name": "deferred_income_tax",
         "rawType": "int64",
         "type": "integer"
        },
        {
         "name": "stock_based_compensation",
         "rawType": "int64",
         "type": "integer"
        },
        {
         "name": "change_in_working_capital",
         "rawType": "int64",
         "type": "integer"
        },
        {
         "name": "accounts_receivables",
         "rawType": "int64",
         "type": "integer"
        },
        {
         "name": "inventory",
         "rawType": "int64",
         "type": "integer"
        },
        {
         "name": "accounts_payables",
         "rawType": "int64",
         "type": "integer"
        },
        {
         "name": "other_working_capital",
         "rawType": "int64",
         "type": "integer"
        },
        {
         "name": "other_non_cash_items",
         "rawType": "int64",
         "type": "integer"
        },
        {
         "name": "net_cash_provided_by_operating_activities",
         "rawType": "int64",
         "type": "integer"
        },
        {
         "name": "investments_in_property_plant_and_equipment",
         "rawType": "int64",
         "type": "integer"
        },
        {
         "name": "acquisitions_net",
         "rawType": "int64",
         "type": "integer"
        },
        {
         "name": "purchases_of_investments",
         "rawType": "int64",
         "type": "integer"
        },
        {
         "name": "sales_maturities_of_investments",
         "rawType": "int64",
         "type": "integer"
        },
        {
         "name": "other_investing_activites",
         "rawType": "int64",
         "type": "integer"
        },
        {
         "name": "net_cash_used_for_investing_activites",
         "rawType": "int64",
         "type": "integer"
        },
        {
         "name": "debt_repayment",
         "rawType": "int64",
         "type": "integer"
        },
        {
         "name": "common_stock_issued",
         "rawType": "int64",
         "type": "integer"
        },
        {
         "name": "common_stock_repurchased",
         "rawType": "int64",
         "type": "integer"
        },
        {
         "name": "dividends_paid",
         "rawType": "int64",
         "type": "integer"
        },
        {
         "name": "other_financing_activites",
         "rawType": "int64",
         "type": "integer"
        },
        {
         "name": "net_cash_used_provided_by_financing_activities",
         "rawType": "int64",
         "type": "integer"
        },
        {
         "name": "effect_of_forex_changes_on_cash",
         "rawType": "int64",
         "type": "integer"
        },
        {
         "name": "net_change_in_cash",
         "rawType": "int64",
         "type": "integer"
        },
        {
         "name": "cash_at_end_of_period",
         "rawType": "int64",
         "type": "integer"
        },
        {
         "name": "cash_at_beginning_of_period",
         "rawType": "int64",
         "type": "integer"
        },
        {
         "name": "operating_cash_flow",
         "rawType": "int64",
         "type": "integer"
        },
        {
         "name": "capital_expenditure",
         "rawType": "int64",
         "type": "integer"
        },
        {
         "name": "free_cash_flow",
         "rawType": "int64",
         "type": "integer"
        },
        {
         "name": "link",
         "rawType": "object",
         "type": "string"
        },
        {
         "name": "final_link",
         "rawType": "object",
         "type": "string"
        }
       ],
       "ref": "f74ecf7e-18bf-404d-882a-da85c5c40f23",
       "rows": [
        [
         "0",
         "2024-09-28 00:00:00",
         "AAPL",
         "USD",
         "0000320193",
         "2024-11-01 00:00:00",
         "2024-11-01 06:01:36",
         "2024",
         "FY",
         "93736000000",
         "11445000000",
         "0",
         "11688000000",
         "3651000000",
         "-5144000000",
         "-1046000000",
         "6020000000",
         "3821000000",
         "-2266000000",
         "118254000000",
         "-9447000000",
         "0",
         "-48656000000",
         "62346000000",
         "-1308000000",
         "2935000000",
         "-5998000000",
         "0",
         "-94949000000",
         "-15234000000",
         "-5802000000",
         "-121983000000",
         "0",
         "-794000000",
         "29943000000",
         "30737000000",
         "118254000000",
         "-9447000000",
         "108807000000",
         "https://www.sec.gov/Archives/edgar/data/320193/000032019324000123/0000320193-24-000123-index.htm",
         "https://www.sec.gov/Archives/edgar/data/320193/000032019324000123/aapl-20240928.htm"
        ],
        [
         "1",
         "2023-09-30 00:00:00",
         "AAPL",
         "USD",
         "0000320193",
         "2023-11-03 00:00:00",
         "2023-11-02 18:08:27",
         "2023",
         "FY",
         "96995000000",
         "11519000000",
         "0",
         "10833000000",
         "-6577000000",
         "-417000000",
         "-1618000000",
         "-1889000000",
         "-2653000000",
         "-2227000000",
         "110543000000",
         "-10959000000",
         "0",
         "-29513000000",
         "45514000000",
         "-1337000000",
         "3705000000",
         "-9901000000",
         "0",
         "-77550000000",
         "-15025000000",
         "-6012000000",
         "-108488000000",
         "0",
         "5760000000",
         "30737000000",
         "24977000000",
         "110543000000",
         "-10959000000",
         "99584000000",
         "https://www.sec.gov/Archives/edgar/data/320193/000032019323000106/0000320193-23-000106-index.htm",
         "https://www.sec.gov/Archives/edgar/data/320193/000032019323000106/aapl-20230930.htm"
        ],
        [
         "2",
         "2022-09-24 00:00:00",
         "AAPL",
         "USD",
         "0000320193",
         "2022-10-28 00:00:00",
         "2022-10-27 18:01:14",
         "2022",
         "FY",
         "99803000000",
         "11104000000",
         "895000000",
         "9038000000",
         "1200000000",
         "-9343000000",
         "1484000000",
         "9448000000",
         "-389000000",
         "111000000",
         "122151000000",
         "-10708000000",
         "-306000000",
         "-76923000000",
         "67363000000",
         "-1780000000",
         "-22354000000",
         "-123000000",
         "0",
         "-89402000000",
         "-14841000000",
         "-6383000000",
         "-110749000000",
         "0",
         "-10952000000",
         "24977000000",
         "35929000000",
         "122151000000",
         "-10708000000",
         "111443000000",
         "https://www.sec.gov/Archives/edgar/data/320193/000032019322000108/0000320193-22-000108-index.htm",
         "https://www.sec.gov/Archives/edgar/data/320193/000032019322000108/aapl-20220924.htm"
        ],
        [
         "3",
         "2021-09-25 00:00:00",
         "AAPL",
         "USD",
         "0000320193",
         "2021-10-29 00:00:00",
         "2021-10-28 18:04:28",
         "2021",
         "FY",
         "94680000000",
         "11284000000",
         "-4774000000",
         "7906000000",
         "-4911000000",
         "-14028000000",
         "-2642000000",
         "12326000000",
         "-567000000",
         "-147000000",
         "104038000000",
         "-11085000000",
         "-33000000",
         "-109558000000",
         "106483000000",
         "-385000000",
         "-14545000000",
         "12665000000",
         "1105000000",
         "-85971000000",
         "-14467000000",
         "-6685000000",
         "-93353000000",
         "0",
         "-3860000000",
         "35929000000",
         "39789000000",
         "104038000000",
         "-11085000000",
         "92953000000",
         "https://www.sec.gov/Archives/edgar/data/320193/000032019321000105/0000320193-21-000105-index.htm",
         "https://www.sec.gov/Archives/edgar/data/320193/000032019321000105/aapl-20210925.htm"
        ],
        [
         "4",
         "2020-09-26 00:00:00",
         "AAPL",
         "USD",
         "0000320193",
         "2020-10-30 00:00:00",
         "2020-10-29 18:06:25",
         "2020",
         "FY",
         "57411000000",
         "11056000000",
         "-215000000",
         "6829000000",
         "5690000000",
         "8470000000",
         "-127000000",
         "-4062000000",
         "1409000000",
         "-97000000",
         "80674000000",
         "-7309000000",
         "-1524000000",
         "-114938000000",
         "120391000000",
         "-909000000",
         "-4289000000",
         "2499000000",
         "880000000",
         "-72358000000",
         "-14081000000",
         "-3760000000",
         "-86820000000",
         "0",
         "-10435000000",
         "39789000000",
         "50224000000",
         "80674000000",
         "-7309000000",
         "73365000000",
         "https://www.sec.gov/Archives/edgar/data/320193/000032019320000096/0000320193-20-000096-index.htm",
         "https://www.sec.gov/Archives/edgar/data/320193/000032019320000096/aapl-20200926.htm"
        ]
       ],
       "shape": {
        "columns": 40,
        "rows": 5
       }
      },
      "text/html": [
       "<div>\n",
       "<style scoped>\n",
       "    .dataframe tbody tr th:only-of-type {\n",
       "        vertical-align: middle;\n",
       "    }\n",
       "\n",
       "    .dataframe tbody tr th {\n",
       "        vertical-align: top;\n",
       "    }\n",
       "\n",
       "    .dataframe thead th {\n",
       "        text-align: right;\n",
       "    }\n",
       "</style>\n",
       "<table border=\"1\" class=\"dataframe\">\n",
       "  <thead>\n",
       "    <tr style=\"text-align: right;\">\n",
       "      <th></th>\n",
       "      <th>date</th>\n",
       "      <th>symbol</th>\n",
       "      <th>reported_currency</th>\n",
       "      <th>cik</th>\n",
       "      <th>filling_date</th>\n",
       "      <th>accepted_date</th>\n",
       "      <th>calendar_year</th>\n",
       "      <th>period</th>\n",
       "      <th>net_income</th>\n",
       "      <th>depreciation_and_amortization</th>\n",
       "      <th>...</th>\n",
       "      <th>net_cash_used_provided_by_financing_activities</th>\n",
       "      <th>effect_of_forex_changes_on_cash</th>\n",
       "      <th>net_change_in_cash</th>\n",
       "      <th>cash_at_end_of_period</th>\n",
       "      <th>cash_at_beginning_of_period</th>\n",
       "      <th>operating_cash_flow</th>\n",
       "      <th>capital_expenditure</th>\n",
       "      <th>free_cash_flow</th>\n",
       "      <th>link</th>\n",
       "      <th>final_link</th>\n",
       "    </tr>\n",
       "  </thead>\n",
       "  <tbody>\n",
       "    <tr>\n",
       "      <th>0</th>\n",
       "      <td>2024-09-28</td>\n",
       "      <td>AAPL</td>\n",
       "      <td>USD</td>\n",
       "      <td>0000320193</td>\n",
       "      <td>2024-11-01</td>\n",
       "      <td>2024-11-01 06:01:36</td>\n",
       "      <td>2024</td>\n",
       "      <td>FY</td>\n",
       "      <td>93736000000</td>\n",
       "      <td>11445000000</td>\n",
       "      <td>...</td>\n",
       "      <td>-121983000000</td>\n",
       "      <td>0</td>\n",
       "      <td>-794000000</td>\n",
       "      <td>29943000000</td>\n",
       "      <td>30737000000</td>\n",
       "      <td>118254000000</td>\n",
       "      <td>-9447000000</td>\n",
       "      <td>108807000000</td>\n",
       "      <td>https://www.sec.gov/Archives/edgar/data/320193...</td>\n",
       "      <td>https://www.sec.gov/Archives/edgar/data/320193...</td>\n",
       "    </tr>\n",
       "    <tr>\n",
       "      <th>1</th>\n",
       "      <td>2023-09-30</td>\n",
       "      <td>AAPL</td>\n",
       "      <td>USD</td>\n",
       "      <td>0000320193</td>\n",
       "      <td>2023-11-03</td>\n",
       "      <td>2023-11-02 18:08:27</td>\n",
       "      <td>2023</td>\n",
       "      <td>FY</td>\n",
       "      <td>96995000000</td>\n",
       "      <td>11519000000</td>\n",
       "      <td>...</td>\n",
       "      <td>-108488000000</td>\n",
       "      <td>0</td>\n",
       "      <td>5760000000</td>\n",
       "      <td>30737000000</td>\n",
       "      <td>24977000000</td>\n",
       "      <td>110543000000</td>\n",
       "      <td>-10959000000</td>\n",
       "      <td>99584000000</td>\n",
       "      <td>https://www.sec.gov/Archives/edgar/data/320193...</td>\n",
       "      <td>https://www.sec.gov/Archives/edgar/data/320193...</td>\n",
       "    </tr>\n",
       "    <tr>\n",
       "      <th>2</th>\n",
       "      <td>2022-09-24</td>\n",
       "      <td>AAPL</td>\n",
       "      <td>USD</td>\n",
       "      <td>0000320193</td>\n",
       "      <td>2022-10-28</td>\n",
       "      <td>2022-10-27 18:01:14</td>\n",
       "      <td>2022</td>\n",
       "      <td>FY</td>\n",
       "      <td>99803000000</td>\n",
       "      <td>11104000000</td>\n",
       "      <td>...</td>\n",
       "      <td>-110749000000</td>\n",
       "      <td>0</td>\n",
       "      <td>-10952000000</td>\n",
       "      <td>24977000000</td>\n",
       "      <td>35929000000</td>\n",
       "      <td>122151000000</td>\n",
       "      <td>-10708000000</td>\n",
       "      <td>111443000000</td>\n",
       "      <td>https://www.sec.gov/Archives/edgar/data/320193...</td>\n",
       "      <td>https://www.sec.gov/Archives/edgar/data/320193...</td>\n",
       "    </tr>\n",
       "    <tr>\n",
       "      <th>3</th>\n",
       "      <td>2021-09-25</td>\n",
       "      <td>AAPL</td>\n",
       "      <td>USD</td>\n",
       "      <td>0000320193</td>\n",
       "      <td>2021-10-29</td>\n",
       "      <td>2021-10-28 18:04:28</td>\n",
       "      <td>2021</td>\n",
       "      <td>FY</td>\n",
       "      <td>94680000000</td>\n",
       "      <td>11284000000</td>\n",
       "      <td>...</td>\n",
       "      <td>-93353000000</td>\n",
       "      <td>0</td>\n",
       "      <td>-3860000000</td>\n",
       "      <td>35929000000</td>\n",
       "      <td>39789000000</td>\n",
       "      <td>104038000000</td>\n",
       "      <td>-11085000000</td>\n",
       "      <td>92953000000</td>\n",
       "      <td>https://www.sec.gov/Archives/edgar/data/320193...</td>\n",
       "      <td>https://www.sec.gov/Archives/edgar/data/320193...</td>\n",
       "    </tr>\n",
       "    <tr>\n",
       "      <th>4</th>\n",
       "      <td>2020-09-26</td>\n",
       "      <td>AAPL</td>\n",
       "      <td>USD</td>\n",
       "      <td>0000320193</td>\n",
       "      <td>2020-10-30</td>\n",
       "      <td>2020-10-29 18:06:25</td>\n",
       "      <td>2020</td>\n",
       "      <td>FY</td>\n",
       "      <td>57411000000</td>\n",
       "      <td>11056000000</td>\n",
       "      <td>...</td>\n",
       "      <td>-86820000000</td>\n",
       "      <td>0</td>\n",
       "      <td>-10435000000</td>\n",
       "      <td>39789000000</td>\n",
       "      <td>50224000000</td>\n",
       "      <td>80674000000</td>\n",
       "      <td>-7309000000</td>\n",
       "      <td>73365000000</td>\n",
       "      <td>https://www.sec.gov/Archives/edgar/data/320193...</td>\n",
       "      <td>https://www.sec.gov/Archives/edgar/data/320193...</td>\n",
       "    </tr>\n",
       "  </tbody>\n",
       "</table>\n",
       "<p>5 rows × 40 columns</p>\n",
       "</div>"
      ],
      "text/plain": [
       "        date symbol reported_currency         cik filling_date  \\\n",
       "0 2024-09-28   AAPL               USD  0000320193   2024-11-01   \n",
       "1 2023-09-30   AAPL               USD  0000320193   2023-11-03   \n",
       "2 2022-09-24   AAPL               USD  0000320193   2022-10-28   \n",
       "3 2021-09-25   AAPL               USD  0000320193   2021-10-29   \n",
       "4 2020-09-26   AAPL               USD  0000320193   2020-10-30   \n",
       "\n",
       "        accepted_date  calendar_year period   net_income  \\\n",
       "0 2024-11-01 06:01:36           2024     FY  93736000000   \n",
       "1 2023-11-02 18:08:27           2023     FY  96995000000   \n",
       "2 2022-10-27 18:01:14           2022     FY  99803000000   \n",
       "3 2021-10-28 18:04:28           2021     FY  94680000000   \n",
       "4 2020-10-29 18:06:25           2020     FY  57411000000   \n",
       "\n",
       "   depreciation_and_amortization  ...  \\\n",
       "0                    11445000000  ...   \n",
       "1                    11519000000  ...   \n",
       "2                    11104000000  ...   \n",
       "3                    11284000000  ...   \n",
       "4                    11056000000  ...   \n",
       "\n",
       "   net_cash_used_provided_by_financing_activities  \\\n",
       "0                                   -121983000000   \n",
       "1                                   -108488000000   \n",
       "2                                   -110749000000   \n",
       "3                                    -93353000000   \n",
       "4                                    -86820000000   \n",
       "\n",
       "   effect_of_forex_changes_on_cash  net_change_in_cash  cash_at_end_of_period  \\\n",
       "0                                0          -794000000            29943000000   \n",
       "1                                0          5760000000            30737000000   \n",
       "2                                0        -10952000000            24977000000   \n",
       "3                                0         -3860000000            35929000000   \n",
       "4                                0        -10435000000            39789000000   \n",
       "\n",
       "   cash_at_beginning_of_period  operating_cash_flow  capital_expenditure  \\\n",
       "0                  30737000000         118254000000          -9447000000   \n",
       "1                  24977000000         110543000000         -10959000000   \n",
       "2                  35929000000         122151000000         -10708000000   \n",
       "3                  39789000000         104038000000         -11085000000   \n",
       "4                  50224000000          80674000000          -7309000000   \n",
       "\n",
       "   free_cash_flow                                               link  \\\n",
       "0    108807000000  https://www.sec.gov/Archives/edgar/data/320193...   \n",
       "1     99584000000  https://www.sec.gov/Archives/edgar/data/320193...   \n",
       "2    111443000000  https://www.sec.gov/Archives/edgar/data/320193...   \n",
       "3     92953000000  https://www.sec.gov/Archives/edgar/data/320193...   \n",
       "4     73365000000  https://www.sec.gov/Archives/edgar/data/320193...   \n",
       "\n",
       "                                          final_link  \n",
       "0  https://www.sec.gov/Archives/edgar/data/320193...  \n",
       "1  https://www.sec.gov/Archives/edgar/data/320193...  \n",
       "2  https://www.sec.gov/Archives/edgar/data/320193...  \n",
       "3  https://www.sec.gov/Archives/edgar/data/320193...  \n",
       "4  https://www.sec.gov/Archives/edgar/data/320193...  \n",
       "\n",
       "[5 rows x 40 columns]"
      ]
     },
     "execution_count": 5,
     "metadata": {},
     "output_type": "execute_result"
    }
   ],
   "source": [
    "cf"
   ]
  },
  {
   "cell_type": "code",
   "execution_count": 21,
   "id": "a565c8db",
   "metadata": {},
   "outputs": [
    {
     "data": {
      "application/vnd.microsoft.datawrangler.viewer.v0+json": {
       "columns": [
        {
         "name": "index",
         "rawType": "int64",
         "type": "integer"
        },
        {
         "name": "free_cash_flow",
         "rawType": "int64",
         "type": "integer"
        }
       ],
       "ref": "c4976ba2-3a0d-4a26-85fa-f165fc6a7f0f",
       "rows": [
        [
         "0",
         "165155000000"
        ],
        [
         "1",
         "135197000000"
        ],
        [
         "2",
         "178683000000"
        ],
        [
         "3",
         "212101000000"
        ],
        [
         "4",
         "196255000000"
        ]
       ],
       "shape": {
        "columns": 1,
        "rows": 5
       }
      },
      "text/html": [
       "<div>\n",
       "<style scoped>\n",
       "    .dataframe tbody tr th:only-of-type {\n",
       "        vertical-align: middle;\n",
       "    }\n",
       "\n",
       "    .dataframe tbody tr th {\n",
       "        vertical-align: top;\n",
       "    }\n",
       "\n",
       "    .dataframe thead th {\n",
       "        text-align: right;\n",
       "    }\n",
       "</style>\n",
       "<table border=\"1\" class=\"dataframe\">\n",
       "  <thead>\n",
       "    <tr style=\"text-align: right;\">\n",
       "      <th></th>\n",
       "      <th>free_cash_flow</th>\n",
       "    </tr>\n",
       "  </thead>\n",
       "  <tbody>\n",
       "    <tr>\n",
       "      <th>0</th>\n",
       "      <td>165155000000</td>\n",
       "    </tr>\n",
       "    <tr>\n",
       "      <th>1</th>\n",
       "      <td>135197000000</td>\n",
       "    </tr>\n",
       "    <tr>\n",
       "      <th>2</th>\n",
       "      <td>178683000000</td>\n",
       "    </tr>\n",
       "    <tr>\n",
       "      <th>3</th>\n",
       "      <td>212101000000</td>\n",
       "    </tr>\n",
       "    <tr>\n",
       "      <th>4</th>\n",
       "      <td>196255000000</td>\n",
       "    </tr>\n",
       "  </tbody>\n",
       "</table>\n",
       "</div>"
      ],
      "text/plain": [
       "   free_cash_flow\n",
       "0    165155000000\n",
       "1    135197000000\n",
       "2    178683000000\n",
       "3    212101000000\n",
       "4    196255000000"
      ]
     },
     "execution_count": 21,
     "metadata": {},
     "output_type": "execute_result"
    }
   ],
   "source": [
    "cf_cfo = cf['operating_cash_flow']\n",
    "cf_capex = cf['capital_expenditure']\n",
    "cf_debt_taken = cf['sales_maturities_of_investments']\n",
    "cf_debt_repaid = cf['debt_repayment']\n",
    "fcf = cf_cfo + cf_capex + cf_debt_taken + cf_debt_repaid\n",
    "fcf_df = pd.DataFrame(fcf)\n",
    "fcf_df.columns = ['free_cash_flow']\n",
    "fcf_df"
   ]
  },
  {
   "cell_type": "code",
   "execution_count": 41,
   "id": "ae9d959b",
   "metadata": {},
   "outputs": [
    {
     "data": {
      "text/plain": [
       "np.float64(177478200000.0)"
      ]
     },
     "execution_count": 41,
     "metadata": {},
     "output_type": "execute_result"
    }
   ],
   "source": [
    "today_fcf = np.average(fcf_df['free_cash_flow'])\n",
    "today_fcf"
   ]
  },
  {
   "cell_type": "code",
   "execution_count": 24,
   "id": "8709a761",
   "metadata": {},
   "outputs": [
    {
     "data": {
      "application/vnd.microsoft.datawrangler.viewer.v0+json": {
       "columns": [
        {
         "name": "index",
         "rawType": "int64",
         "type": "integer"
        },
        {
         "name": "roe",
         "rawType": "float64",
         "type": "float"
        }
       ],
       "ref": "184fe144-f80a-47b1-be7b-2e20c454df35",
       "rows": [
        [
         "0",
         "1.6459350307287095"
        ],
        [
         "1",
         "1.5607601454639075"
        ],
        [
         "2",
         "1.9695887275023682"
        ],
        [
         "3",
         "1.5007132667617689"
        ],
        [
         "4",
         "0.8786635853012749"
        ]
       ],
       "shape": {
        "columns": 1,
        "rows": 5
       }
      },
      "text/html": [
       "<div>\n",
       "<style scoped>\n",
       "    .dataframe tbody tr th:only-of-type {\n",
       "        vertical-align: middle;\n",
       "    }\n",
       "\n",
       "    .dataframe tbody tr th {\n",
       "        vertical-align: top;\n",
       "    }\n",
       "\n",
       "    .dataframe thead th {\n",
       "        text-align: right;\n",
       "    }\n",
       "</style>\n",
       "<table border=\"1\" class=\"dataframe\">\n",
       "  <thead>\n",
       "    <tr style=\"text-align: right;\">\n",
       "      <th></th>\n",
       "      <th>roe</th>\n",
       "    </tr>\n",
       "  </thead>\n",
       "  <tbody>\n",
       "    <tr>\n",
       "      <th>0</th>\n",
       "      <td>1.645935</td>\n",
       "    </tr>\n",
       "    <tr>\n",
       "      <th>1</th>\n",
       "      <td>1.560760</td>\n",
       "    </tr>\n",
       "    <tr>\n",
       "      <th>2</th>\n",
       "      <td>1.969589</td>\n",
       "    </tr>\n",
       "    <tr>\n",
       "      <th>3</th>\n",
       "      <td>1.500713</td>\n",
       "    </tr>\n",
       "    <tr>\n",
       "      <th>4</th>\n",
       "      <td>0.878664</td>\n",
       "    </tr>\n",
       "  </tbody>\n",
       "</table>\n",
       "</div>"
      ],
      "text/plain": [
       "        roe\n",
       "0  1.645935\n",
       "1  1.560760\n",
       "2  1.969589\n",
       "3  1.500713\n",
       "4  0.878664"
      ]
     },
     "execution_count": 24,
     "metadata": {},
     "output_type": "execute_result"
    }
   ],
   "source": [
    "roe = cf['net_income'] / bs['total_equity']\n",
    "roe = pd.DataFrame(roe)\n",
    "roe.columns = ['roe']\n",
    "roe"
   ]
  },
  {
   "cell_type": "code",
   "execution_count": 31,
   "id": "cfe372c9",
   "metadata": {},
   "outputs": [
    {
     "data": {
      "text/plain": [
       "np.float64(1.5111321511516058)"
      ]
     },
     "execution_count": 31,
     "metadata": {},
     "output_type": "execute_result"
    }
   ],
   "source": [
    "avg_roe = np.average(roe['roe'])\n",
    "avg_roe\n"
   ]
  },
  {
   "cell_type": "code",
   "execution_count": 35,
   "id": "9c14d4bd",
   "metadata": {},
   "outputs": [
    {
     "data": {
      "text/plain": [
       "np.float64(0.8271612810789165)"
      ]
     },
     "execution_count": 35,
     "metadata": {},
     "output_type": "execute_result"
    }
   ],
   "source": [
    "reinv_rate = (cf['net_income'] + cf ['dividends_paid']) / cf['net_income']\n",
    "reinv_rate = pd.DataFrame(reinv_rate)\n",
    "reinv_rate.columns = ['reinv_rate']\n",
    "reinv_rate_avg = np.average(reinv_rate['reinv_rate'])\n",
    "reinv_rate_avg"
   ]
  },
  {
   "cell_type": "code",
   "execution_count": 39,
   "id": "a735fae4",
   "metadata": {},
   "outputs": [],
   "source": [
    "growth = avg_roe * reinv_rate_avg\n",
    "real_growth = 0\n",
    "if growth > 0.05:\n",
    "    real_growth = 0.05\n",
    "else:\n",
    "    pass\n"
   ]
  },
  {
   "cell_type": "code",
   "execution_count": 38,
   "id": "7f2c9460",
   "metadata": {},
   "outputs": [],
   "source": [
    "cost_e = 0.1"
   ]
  },
  {
   "cell_type": "code",
   "execution_count": 40,
   "id": "f04b65fc",
   "metadata": {},
   "outputs": [
    {
     "data": {
      "text/plain": [
       "0.05"
      ]
     },
     "execution_count": 40,
     "metadata": {},
     "output_type": "execute_result"
    }
   ],
   "source": [
    "real_growth"
   ]
  },
  {
   "cell_type": "code",
   "execution_count": 44,
   "id": "3369ce6e",
   "metadata": {},
   "outputs": [
    {
     "data": {
      "text/plain": [
       "np.float64(4099746420000.0)"
      ]
     },
     "execution_count": 44,
     "metadata": {},
     "output_type": "execute_result"
    }
   ],
   "source": [
    "dcf = (today_fcf * (1+real_growth)) + ((today_fcf * ((1+real_growth)**2))/(cost_e - real_growth))\n",
    "dcf"
   ]
  },
  {
   "cell_type": "code",
   "execution_count": 45,
   "id": "bcc5a1d4",
   "metadata": {},
   "outputs": [],
   "source": [
    "market_cap = fmp_get(\n",
    "    resource='market-capitalization',\n",
    "    symbol='AAPL',\n",
    "    params= {'date': \"2025-09-19\"},\n",
    "    to_pandas=True\n",
    ")"
   ]
  },
  {
   "cell_type": "code",
   "execution_count": 46,
   "id": "4ecb4455",
   "metadata": {},
   "outputs": [
    {
     "data": {
      "application/vnd.microsoft.datawrangler.viewer.v0+json": {
       "columns": [
        {
         "name": "index",
         "rawType": "int64",
         "type": "integer"
        },
        {
         "name": "symbol",
         "rawType": "object",
         "type": "string"
        },
        {
         "name": "date",
         "rawType": "datetime64[ms]",
         "type": "unknown"
        },
        {
         "name": "market_cap",
         "rawType": "int64",
         "type": "integer"
        }
       ],
       "ref": "475a1f8b-8ef7-4046-a6e7-158bf377634b",
       "rows": [
        [
         "0",
         "AAPL",
         "2025-09-19 00:00:00",
         "3643315745000"
        ]
       ],
       "shape": {
        "columns": 3,
        "rows": 1
       }
      },
      "text/html": [
       "<div>\n",
       "<style scoped>\n",
       "    .dataframe tbody tr th:only-of-type {\n",
       "        vertical-align: middle;\n",
       "    }\n",
       "\n",
       "    .dataframe tbody tr th {\n",
       "        vertical-align: top;\n",
       "    }\n",
       "\n",
       "    .dataframe thead th {\n",
       "        text-align: right;\n",
       "    }\n",
       "</style>\n",
       "<table border=\"1\" class=\"dataframe\">\n",
       "  <thead>\n",
       "    <tr style=\"text-align: right;\">\n",
       "      <th></th>\n",
       "      <th>symbol</th>\n",
       "      <th>date</th>\n",
       "      <th>market_cap</th>\n",
       "    </tr>\n",
       "  </thead>\n",
       "  <tbody>\n",
       "    <tr>\n",
       "      <th>0</th>\n",
       "      <td>AAPL</td>\n",
       "      <td>2025-09-19</td>\n",
       "      <td>3643315745000</td>\n",
       "    </tr>\n",
       "  </tbody>\n",
       "</table>\n",
       "</div>"
      ],
      "text/plain": [
       "  symbol       date     market_cap\n",
       "0   AAPL 2025-09-19  3643315745000"
      ]
     },
     "execution_count": 46,
     "metadata": {},
     "output_type": "execute_result"
    }
   ],
   "source": [
    "market_cap"
   ]
  },
  {
   "cell_type": "code",
   "execution_count": 48,
   "id": "1b94744b",
   "metadata": {},
   "outputs": [
    {
     "data": {
      "application/vnd.microsoft.datawrangler.viewer.v0+json": {
       "columns": [
        {
         "name": "index",
         "rawType": "int64",
         "type": "integer"
        },
        {
         "name": "market_cap",
         "rawType": "float64",
         "type": "float"
        }
       ],
       "ref": "f21539a2-a5cf-472f-a771-23f4688d5eb4",
       "rows": [
        [
         "0",
         "1.1252789236360847"
        ]
       ],
       "shape": {
        "columns": 1,
        "rows": 1
       }
      },
      "text/plain": [
       "0    1.125279\n",
       "Name: market_cap, dtype: float64"
      ]
     },
     "execution_count": 48,
     "metadata": {},
     "output_type": "execute_result"
    }
   ],
   "source": [
    "mos = dcf / market_cap['market_cap']\n",
    "mos"
   ]
  },
  {
   "cell_type": "code",
   "execution_count": null,
   "id": "3654bfce",
   "metadata": {},
   "outputs": [],
   "source": []
  }
 ],
 "metadata": {
  "kernelspec": {
   "display_name": "mac-env",
   "language": "python",
   "name": "python3"
  },
  "language_info": {
   "codemirror_mode": {
    "name": "ipython",
    "version": 3
   },
   "file_extension": ".py",
   "mimetype": "text/x-python",
   "name": "python",
   "nbconvert_exporter": "python",
   "pygments_lexer": "ipython3",
   "version": "3.12.11"
  }
 },
 "nbformat": 4,
 "nbformat_minor": 5
}
