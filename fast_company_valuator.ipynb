{
 "cells": [
  {
   "cell_type": "code",
   "execution_count": 2,
   "id": "275c1ae5",
   "metadata": {},
   "outputs": [],
   "source": [
    "import pandas as pd \n",
    "import numpy as np\n",
    "import os\n",
    "from fmpapi import fmp_get\n",
    "from dotenv import load_dotenv\n",
    "import pyarrow\n",
    "\n",
    "load_dotenv()\n",
    "api_key = os.getenv('FMP_API_KEY')\n"
   ]
  },
  {
   "cell_type": "code",
   "execution_count": 3,
   "id": "b6e0107c",
   "metadata": {},
   "outputs": [],
   "source": [
    "bs = fmp_get(\n",
    "\n",
    "  resource=\"balance-sheet-statement\", \n",
    "  symbol=\"AAPL\", \n",
    "  params={\"period\": \"annual\", \"limit\": 5},\n",
    "  to_pandas=True\n",
    ")"
   ]
  },
  {
   "cell_type": "code",
   "execution_count": 20,
   "id": "dd5863d4",
   "metadata": {},
   "outputs": [
    {
     "data": {
      "application/vnd.microsoft.datawrangler.viewer.v0+json": {
       "columns": [
        {
         "name": "index",
         "rawType": "int64",
         "type": "integer"
        },
        {
         "name": "date",
         "rawType": "datetime64[ms]",
         "type": "unknown"
        },
        {
         "name": "symbol",
         "rawType": "object",
         "type": "string"
        },
        {
         "name": "reported_currency",
         "rawType": "object",
         "type": "string"
        },
        {
         "name": "cik",
         "rawType": "object",
         "type": "string"
        },
        {
         "name": "filling_date",
         "rawType": "datetime64[ms]",
         "type": "unknown"
        },
        {
         "name": "accepted_date",
         "rawType": "datetime64[us]",
         "type": "unknown"
        },
        {
         "name": "calendar_year",
         "rawType": "int32",
         "type": "integer"
        },
        {
         "name": "period",
         "rawType": "object",
         "type": "string"
        },
        {
         "name": "cash_and_cash_equivalents",
         "rawType": "int64",
         "type": "integer"
        },
        {
         "name": "short_term_investments",
         "rawType": "int64",
         "type": "integer"
        },
        {
         "name": "cash_and_short_term_investments",
         "rawType": "int64",
         "type": "integer"
        },
        {
         "name": "net_receivables",
         "rawType": "int64",
         "type": "integer"
        },
        {
         "name": "inventory",
         "rawType": "int64",
         "type": "integer"
        },
        {
         "name": "other_current_assets",
         "rawType": "int64",
         "type": "integer"
        },
        {
         "name": "total_current_assets",
         "rawType": "int64",
         "type": "integer"
        },
        {
         "name": "property_plant_equipment_net",
         "rawType": "int64",
         "type": "integer"
        },
        {
         "name": "goodwill",
         "rawType": "int64",
         "type": "integer"
        },
        {
         "name": "intangible_assets",
         "rawType": "int64",
         "type": "integer"
        },
        {
         "name": "goodwill_and_intangible_assets",
         "rawType": "int64",
         "type": "integer"
        },
        {
         "name": "long_term_investments",
         "rawType": "int64",
         "type": "integer"
        },
        {
         "name": "tax_assets",
         "rawType": "int64",
         "type": "integer"
        },
        {
         "name": "other_non_current_assets",
         "rawType": "int64",
         "type": "integer"
        },
        {
         "name": "total_non_current_assets",
         "rawType": "int64",
         "type": "integer"
        },
        {
         "name": "other_assets",
         "rawType": "int64",
         "type": "integer"
        },
        {
         "name": "total_assets",
         "rawType": "int64",
         "type": "integer"
        },
        {
         "name": "account_payables",
         "rawType": "int64",
         "type": "integer"
        },
        {
         "name": "short_term_debt",
         "rawType": "int64",
         "type": "integer"
        },
        {
         "name": "tax_payables",
         "rawType": "int64",
         "type": "integer"
        },
        {
         "name": "deferred_revenue",
         "rawType": "int64",
         "type": "integer"
        },
        {
         "name": "other_current_liabilities",
         "rawType": "int64",
         "type": "integer"
        },
        {
         "name": "total_current_liabilities",
         "rawType": "int64",
         "type": "integer"
        },
        {
         "name": "long_term_debt",
         "rawType": "int64",
         "type": "integer"
        },
        {
         "name": "deferred_revenue_non_current",
         "rawType": "int64",
         "type": "integer"
        },
        {
         "name": "deferred_tax_liabilities_non_current",
         "rawType": "int64",
         "type": "integer"
        },
        {
         "name": "other_non_current_liabilities",
         "rawType": "int64",
         "type": "integer"
        },
        {
         "name": "total_non_current_liabilities",
         "rawType": "int64",
         "type": "integer"
        },
        {
         "name": "other_liabilities",
         "rawType": "int64",
         "type": "integer"
        },
        {
         "name": "capital_lease_obligations",
         "rawType": "int64",
         "type": "integer"
        },
        {
         "name": "total_liabilities",
         "rawType": "int64",
         "type": "integer"
        },
        {
         "name": "preferred_stock",
         "rawType": "int64",
         "type": "integer"
        },
        {
         "name": "common_stock",
         "rawType": "int64",
         "type": "integer"
        },
        {
         "name": "retained_earnings",
         "rawType": "int64",
         "type": "integer"
        },
        {
         "name": "accumulated_other_comprehensive_income_loss",
         "rawType": "int64",
         "type": "integer"
        },
        {
         "name": "othertotal_stockholders_equity",
         "rawType": "int64",
         "type": "integer"
        },
        {
         "name": "total_stockholders_equity",
         "rawType": "int64",
         "type": "integer"
        },
        {
         "name": "total_equity",
         "rawType": "int64",
         "type": "integer"
        },
        {
         "name": "total_liabilities_and_stockholders_equity",
         "rawType": "int64",
         "type": "integer"
        },
        {
         "name": "minority_interest",
         "rawType": "int64",
         "type": "integer"
        },
        {
         "name": "total_liabilities_and_total_equity",
         "rawType": "int64",
         "type": "integer"
        },
        {
         "name": "total_investments",
         "rawType": "int64",
         "type": "integer"
        },
        {
         "name": "total_debt",
         "rawType": "int64",
         "type": "integer"
        },
        {
         "name": "net_debt",
         "rawType": "int64",
         "type": "integer"
        },
        {
         "name": "link",
         "rawType": "object",
         "type": "string"
        },
        {
         "name": "final_link",
         "rawType": "object",
         "type": "string"
        }
       ],
       "ref": "2dfc3b8a-e1d3-413e-8bb8-ebd10cb7289f",
       "rows": [
        [
         "0",
         "2024-09-28 00:00:00",
         "AAPL",
         "USD",
         "0000320193",
         "2024-11-01 00:00:00",
         "2024-11-01 06:01:36",
         "2024",
         "FY",
         "29943000000",
         "35228000000",
         "65171000000",
         "66243000000",
         "7286000000",
         "14287000000",
         "152987000000",
         "45680000000",
         "0",
         "0",
         "0",
         "91479000000",
         "19499000000",
         "55335000000",
         "211993000000",
         "0",
         "364980000000",
         "68960000000",
         "22511000000",
         "26601000000",
         "8249000000",
         "50071000000",
         "176392000000",
         "96548000000",
         "0",
         "0",
         "35090000000",
         "131638000000",
         "0",
         "12430000000",
         "308030000000",
         "0",
         "83276000000",
         "-19154000000",
         "-7172000000",
         "0",
         "56950000000",
         "56950000000",
         "364980000000",
         "0",
         "364980000000",
         "126707000000",
         "119059000000",
         "89116000000",
         "https://www.sec.gov/Archives/edgar/data/320193/000032019324000123/0000320193-24-000123-index.htm",
         "https://www.sec.gov/Archives/edgar/data/320193/000032019324000123/aapl-20240928.htm"
        ],
        [
         "1",
         "2023-09-30 00:00:00",
         "AAPL",
         "USD",
         "0000320193",
         "2023-11-03 00:00:00",
         "2023-11-02 18:08:27",
         "2023",
         "FY",
         "29965000000",
         "31590000000",
         "61555000000",
         "60985000000",
         "6331000000",
         "14695000000",
         "143566000000",
         "54376000000",
         "0",
         "0",
         "0",
         "100544000000",
         "17852000000",
         "36245000000",
         "209017000000",
         "0",
         "352583000000",
         "62611000000",
         "17382000000",
         "8819000000",
         "8061000000",
         "48435000000",
         "145308000000",
         "106548000000",
         "0",
         "0",
         "38581000000",
         "145129000000",
         "0",
         "12842000000",
         "290437000000",
         "0",
         "73812000000",
         "-214000000",
         "-11452000000",
         "0",
         "62146000000",
         "62146000000",
         "352583000000",
         "0",
         "352583000000",
         "132134000000",
         "123930000000",
         "93965000000",
         "https://www.sec.gov/Archives/edgar/data/320193/000032019323000106/0000320193-23-000106-index.htm",
         "https://www.sec.gov/Archives/edgar/data/320193/000032019323000106/aapl-20230930.htm"
        ],
        [
         "2",
         "2022-09-24 00:00:00",
         "AAPL",
         "USD",
         "0000320193",
         "2022-10-28 00:00:00",
         "2022-10-27 18:01:14",
         "2022",
         "FY",
         "23646000000",
         "24658000000",
         "48304000000",
         "60932000000",
         "4946000000",
         "21223000000",
         "135405000000",
         "52534000000",
         "0",
         "0",
         "0",
         "120805000000",
         "15375000000",
         "28636000000",
         "217350000000",
         "0",
         "352755000000",
         "64115000000",
         "22773000000",
         "6552000000",
         "7912000000",
         "52630000000",
         "153982000000",
         "109707000000",
         "0",
         "0",
         "38394000000",
         "148101000000",
         "0",
         "12411000000",
         "302083000000",
         "0",
         "64849000000",
         "-3068000000",
         "-11109000000",
         "0",
         "50672000000",
         "50672000000",
         "352755000000",
         "0",
         "352755000000",
         "145463000000",
         "132480000000",
         "108834000000",
         "https://www.sec.gov/Archives/edgar/data/320193/000032019322000108/0000320193-22-000108-index.htm",
         "https://www.sec.gov/Archives/edgar/data/320193/000032019322000108/aapl-20220924.htm"
        ],
        [
         "3",
         "2021-09-25 00:00:00",
         "AAPL",
         "USD",
         "0000320193",
         "2021-10-29 00:00:00",
         "2021-10-28 18:04:28",
         "2021",
         "FY",
         "34940000000",
         "27699000000",
         "62639000000",
         "51506000000",
         "6580000000",
         "14111000000",
         "134836000000",
         "49527000000",
         "0",
         "0",
         "0",
         "127877000000",
         "0",
         "38762000000",
         "216166000000",
         "0",
         "351002000000",
         "54763000000",
         "17141000000",
         "0",
         "7612000000",
         "45965000000",
         "125481000000",
         "119381000000",
         "0",
         "0",
         "43050000000",
         "162431000000",
         "0",
         "11803000000",
         "287912000000",
         "0",
         "57365000000",
         "5562000000",
         "163000000",
         "0",
         "63090000000",
         "63090000000",
         "351002000000",
         "0",
         "351002000000",
         "155576000000",
         "136522000000",
         "101582000000",
         "https://www.sec.gov/Archives/edgar/data/320193/000032019321000105/0000320193-21-000105-index.htm",
         "https://www.sec.gov/Archives/edgar/data/320193/000032019321000105/aapl-20210925.htm"
        ],
        [
         "4",
         "2020-09-26 00:00:00",
         "AAPL",
         "USD",
         "0000320193",
         "2020-10-30 00:00:00",
         "2020-10-29 18:06:25",
         "2020",
         "FY",
         "38016000000",
         "52927000000",
         "90943000000",
         "37445000000",
         "4061000000",
         "11264000000",
         "143713000000",
         "45336000000",
         "0",
         "0",
         "0",
         "100887000000",
         "0",
         "33952000000",
         "180175000000",
         "0",
         "323888000000",
         "42296000000",
         "15229000000",
         "0",
         "6643000000",
         "41224000000",
         "105392000000",
         "107049000000",
         "0",
         "0",
         "46108000000",
         "153157000000",
         "0",
         "9842000000",
         "258549000000",
         "0",
         "50779000000",
         "14966000000",
         "-406000000",
         "0",
         "65339000000",
         "65339000000",
         "323888000000",
         "0",
         "323888000000",
         "153814000000",
         "122278000000",
         "84262000000",
         "https://www.sec.gov/Archives/edgar/data/320193/000032019320000096/0000320193-20-000096-index.htm",
         "https://www.sec.gov/Archives/edgar/data/320193/000032019320000096/aapl-20200926.htm"
        ]
       ],
       "shape": {
        "columns": 54,
        "rows": 5
       }
      },
      "text/html": [
       "<div>\n",
       "<style scoped>\n",
       "    .dataframe tbody tr th:only-of-type {\n",
       "        vertical-align: middle;\n",
       "    }\n",
       "\n",
       "    .dataframe tbody tr th {\n",
       "        vertical-align: top;\n",
       "    }\n",
       "\n",
       "    .dataframe thead th {\n",
       "        text-align: right;\n",
       "    }\n",
       "</style>\n",
       "<table border=\"1\" class=\"dataframe\">\n",
       "  <thead>\n",
       "    <tr style=\"text-align: right;\">\n",
       "      <th></th>\n",
       "      <th>date</th>\n",
       "      <th>symbol</th>\n",
       "      <th>reported_currency</th>\n",
       "      <th>cik</th>\n",
       "      <th>filling_date</th>\n",
       "      <th>accepted_date</th>\n",
       "      <th>calendar_year</th>\n",
       "      <th>period</th>\n",
       "      <th>cash_and_cash_equivalents</th>\n",
       "      <th>short_term_investments</th>\n",
       "      <th>...</th>\n",
       "      <th>total_stockholders_equity</th>\n",
       "      <th>total_equity</th>\n",
       "      <th>total_liabilities_and_stockholders_equity</th>\n",
       "      <th>minority_interest</th>\n",
       "      <th>total_liabilities_and_total_equity</th>\n",
       "      <th>total_investments</th>\n",
       "      <th>total_debt</th>\n",
       "      <th>net_debt</th>\n",
       "      <th>link</th>\n",
       "      <th>final_link</th>\n",
       "    </tr>\n",
       "  </thead>\n",
       "  <tbody>\n",
       "    <tr>\n",
       "      <th>0</th>\n",
       "      <td>2024-09-28</td>\n",
       "      <td>AAPL</td>\n",
       "      <td>USD</td>\n",
       "      <td>0000320193</td>\n",
       "      <td>2024-11-01</td>\n",
       "      <td>2024-11-01 06:01:36</td>\n",
       "      <td>2024</td>\n",
       "      <td>FY</td>\n",
       "      <td>29943000000</td>\n",
       "      <td>35228000000</td>\n",
       "      <td>...</td>\n",
       "      <td>56950000000</td>\n",
       "      <td>56950000000</td>\n",
       "      <td>364980000000</td>\n",
       "      <td>0</td>\n",
       "      <td>364980000000</td>\n",
       "      <td>126707000000</td>\n",
       "      <td>119059000000</td>\n",
       "      <td>89116000000</td>\n",
       "      <td>https://www.sec.gov/Archives/edgar/data/320193...</td>\n",
       "      <td>https://www.sec.gov/Archives/edgar/data/320193...</td>\n",
       "    </tr>\n",
       "    <tr>\n",
       "      <th>1</th>\n",
       "      <td>2023-09-30</td>\n",
       "      <td>AAPL</td>\n",
       "      <td>USD</td>\n",
       "      <td>0000320193</td>\n",
       "      <td>2023-11-03</td>\n",
       "      <td>2023-11-02 18:08:27</td>\n",
       "      <td>2023</td>\n",
       "      <td>FY</td>\n",
       "      <td>29965000000</td>\n",
       "      <td>31590000000</td>\n",
       "      <td>...</td>\n",
       "      <td>62146000000</td>\n",
       "      <td>62146000000</td>\n",
       "      <td>352583000000</td>\n",
       "      <td>0</td>\n",
       "      <td>352583000000</td>\n",
       "      <td>132134000000</td>\n",
       "      <td>123930000000</td>\n",
       "      <td>93965000000</td>\n",
       "      <td>https://www.sec.gov/Archives/edgar/data/320193...</td>\n",
       "      <td>https://www.sec.gov/Archives/edgar/data/320193...</td>\n",
       "    </tr>\n",
       "    <tr>\n",
       "      <th>2</th>\n",
       "      <td>2022-09-24</td>\n",
       "      <td>AAPL</td>\n",
       "      <td>USD</td>\n",
       "      <td>0000320193</td>\n",
       "      <td>2022-10-28</td>\n",
       "      <td>2022-10-27 18:01:14</td>\n",
       "      <td>2022</td>\n",
       "      <td>FY</td>\n",
       "      <td>23646000000</td>\n",
       "      <td>24658000000</td>\n",
       "      <td>...</td>\n",
       "      <td>50672000000</td>\n",
       "      <td>50672000000</td>\n",
       "      <td>352755000000</td>\n",
       "      <td>0</td>\n",
       "      <td>352755000000</td>\n",
       "      <td>145463000000</td>\n",
       "      <td>132480000000</td>\n",
       "      <td>108834000000</td>\n",
       "      <td>https://www.sec.gov/Archives/edgar/data/320193...</td>\n",
       "      <td>https://www.sec.gov/Archives/edgar/data/320193...</td>\n",
       "    </tr>\n",
       "    <tr>\n",
       "      <th>3</th>\n",
       "      <td>2021-09-25</td>\n",
       "      <td>AAPL</td>\n",
       "      <td>USD</td>\n",
       "      <td>0000320193</td>\n",
       "      <td>2021-10-29</td>\n",
       "      <td>2021-10-28 18:04:28</td>\n",
       "      <td>2021</td>\n",
       "      <td>FY</td>\n",
       "      <td>34940000000</td>\n",
       "      <td>27699000000</td>\n",
       "      <td>...</td>\n",
       "      <td>63090000000</td>\n",
       "      <td>63090000000</td>\n",
       "      <td>351002000000</td>\n",
       "      <td>0</td>\n",
       "      <td>351002000000</td>\n",
       "      <td>155576000000</td>\n",
       "      <td>136522000000</td>\n",
       "      <td>101582000000</td>\n",
       "      <td>https://www.sec.gov/Archives/edgar/data/320193...</td>\n",
       "      <td>https://www.sec.gov/Archives/edgar/data/320193...</td>\n",
       "    </tr>\n",
       "    <tr>\n",
       "      <th>4</th>\n",
       "      <td>2020-09-26</td>\n",
       "      <td>AAPL</td>\n",
       "      <td>USD</td>\n",
       "      <td>0000320193</td>\n",
       "      <td>2020-10-30</td>\n",
       "      <td>2020-10-29 18:06:25</td>\n",
       "      <td>2020</td>\n",
       "      <td>FY</td>\n",
       "      <td>38016000000</td>\n",
       "      <td>52927000000</td>\n",
       "      <td>...</td>\n",
       "      <td>65339000000</td>\n",
       "      <td>65339000000</td>\n",
       "      <td>323888000000</td>\n",
       "      <td>0</td>\n",
       "      <td>323888000000</td>\n",
       "      <td>153814000000</td>\n",
       "      <td>122278000000</td>\n",
       "      <td>84262000000</td>\n",
       "      <td>https://www.sec.gov/Archives/edgar/data/320193...</td>\n",
       "      <td>https://www.sec.gov/Archives/edgar/data/320193...</td>\n",
       "    </tr>\n",
       "  </tbody>\n",
       "</table>\n",
       "<p>5 rows × 54 columns</p>\n",
       "</div>"
      ],
      "text/plain": [
       "        date symbol reported_currency         cik filling_date  \\\n",
       "0 2024-09-28   AAPL               USD  0000320193   2024-11-01   \n",
       "1 2023-09-30   AAPL               USD  0000320193   2023-11-03   \n",
       "2 2022-09-24   AAPL               USD  0000320193   2022-10-28   \n",
       "3 2021-09-25   AAPL               USD  0000320193   2021-10-29   \n",
       "4 2020-09-26   AAPL               USD  0000320193   2020-10-30   \n",
       "\n",
       "        accepted_date  calendar_year period  cash_and_cash_equivalents  \\\n",
       "0 2024-11-01 06:01:36           2024     FY                29943000000   \n",
       "1 2023-11-02 18:08:27           2023     FY                29965000000   \n",
       "2 2022-10-27 18:01:14           2022     FY                23646000000   \n",
       "3 2021-10-28 18:04:28           2021     FY                34940000000   \n",
       "4 2020-10-29 18:06:25           2020     FY                38016000000   \n",
       "\n",
       "   short_term_investments  ...  total_stockholders_equity  total_equity  \\\n",
       "0             35228000000  ...                56950000000   56950000000   \n",
       "1             31590000000  ...                62146000000   62146000000   \n",
       "2             24658000000  ...                50672000000   50672000000   \n",
       "3             27699000000  ...                63090000000   63090000000   \n",
       "4             52927000000  ...                65339000000   65339000000   \n",
       "\n",
       "   total_liabilities_and_stockholders_equity  minority_interest  \\\n",
       "0                               364980000000                  0   \n",
       "1                               352583000000                  0   \n",
       "2                               352755000000                  0   \n",
       "3                               351002000000                  0   \n",
       "4                               323888000000                  0   \n",
       "\n",
       "   total_liabilities_and_total_equity  total_investments    total_debt  \\\n",
       "0                        364980000000       126707000000  119059000000   \n",
       "1                        352583000000       132134000000  123930000000   \n",
       "2                        352755000000       145463000000  132480000000   \n",
       "3                        351002000000       155576000000  136522000000   \n",
       "4                        323888000000       153814000000  122278000000   \n",
       "\n",
       "       net_debt                                               link  \\\n",
       "0   89116000000  https://www.sec.gov/Archives/edgar/data/320193...   \n",
       "1   93965000000  https://www.sec.gov/Archives/edgar/data/320193...   \n",
       "2  108834000000  https://www.sec.gov/Archives/edgar/data/320193...   \n",
       "3  101582000000  https://www.sec.gov/Archives/edgar/data/320193...   \n",
       "4   84262000000  https://www.sec.gov/Archives/edgar/data/320193...   \n",
       "\n",
       "                                          final_link  \n",
       "0  https://www.sec.gov/Archives/edgar/data/320193...  \n",
       "1  https://www.sec.gov/Archives/edgar/data/320193...  \n",
       "2  https://www.sec.gov/Archives/edgar/data/320193...  \n",
       "3  https://www.sec.gov/Archives/edgar/data/320193...  \n",
       "4  https://www.sec.gov/Archives/edgar/data/320193...  \n",
       "\n",
       "[5 rows x 54 columns]"
      ]
     },
     "execution_count": 20,
     "metadata": {},
     "output_type": "execute_result"
    }
   ],
   "source": [
    "bs"
   ]
  },
  {
   "cell_type": "code",
   "execution_count": 4,
   "id": "3ab0e035",
   "metadata": {},
   "outputs": [],
   "source": [
    "cf = fmp_get(\n",
    "    resource='cash-flow-statement',\n",
    "    symbol='AAPL',\n",
    "    params={'period':'annual', 'limit':5},\n",
    "    to_pandas=True\n",
    ")"
   ]
  },
  {
   "cell_type": "code",
   "execution_count": 5,
   "id": "b4bc72ca",
   "metadata": {},
   "outputs": [
    {
     "data": {
      "application/vnd.microsoft.datawrangler.viewer.v0+json": {
       "columns": [
        {
         "name": "index",
         "rawType": "int64",
         "type": "integer"
        },
        {
         "name": "date",
         "rawType": "datetime64[ms]",
         "type": "unknown"
        },
        {
         "name": "symbol",
         "rawType": "object",
         "type": "string"
        },
        {
         "name": "reported_currency",
         "rawType": "object",
         "type": "string"
        },
        {
         "name": "cik",
         "rawType": "object",
         "type": "string"
        },
        {
         "name": "filling_date",
         "rawType": "datetime64[ms]",
         "type": "unknown"
        },
        {
         "name": "accepted_date",
         "rawType": "datetime64[us]",
         "type": "unknown"
        },
        {
         "name": "calendar_year",
         "rawType": "int32",
         "type": "integer"
        },
        {
         "name": "period",
         "rawType": "object",
         "type": "string"
        },
        {
         "name": "net_income",
         "rawType": "int64",
         "type": "integer"
        },
        {
         "name": "depreciation_and_amortization",
         "rawType": "int64",
         "type": "integer"
        },
        {
         "name": "deferred_income_tax",
         "rawType": "int64",
         "type": "integer"
        },
        {
         "name": "stock_based_compensation",
         "rawType": "int64",
         "type": "integer"
        },
        {
         "name": "change_in_working_capital",
         "rawType": "int64",
         "type": "integer"
        },
        {
         "name": "accounts_receivables",
         "rawType": "int64",
         "type": "integer"
        },
        {
         "name": "inventory",
         "rawType": "int64",
         "type": "integer"
        },
        {
         "name": "accounts_payables",
         "rawType": "int64",
         "type": "integer"
        },
        {
         "name": "other_working_capital",
         "rawType": "int64",
         "type": "integer"
        },
        {
         "name": "other_non_cash_items",
         "rawType": "int64",
         "type": "integer"
        },
        {
         "name": "net_cash_provided_by_operating_activities",
         "rawType": "int64",
         "type": "integer"
        },
        {
         "name": "investments_in_property_plant_and_equipment",
         "rawType": "int64",
         "type": "integer"
        },
        {
         "name": "acquisitions_net",
         "rawType": "int64",
         "type": "integer"
        },
        {
         "name": "purchases_of_investments",
         "rawType": "int64",
         "type": "integer"
        },
        {
         "name": "sales_maturities_of_investments",
         "rawType": "int64",
         "type": "integer"
        },
        {
         "name": "other_investing_activites",
         "rawType": "int64",
         "type": "integer"
        },
        {
         "name": "net_cash_used_for_investing_activites",
         "rawType": "int64",
         "type": "integer"
        },
        {
         "name": "debt_repayment",
         "rawType": "int64",
         "type": "integer"
        },
        {
         "name": "common_stock_issued",
         "rawType": "int64",
         "type": "integer"
        },
        {
         "name": "common_stock_repurchased",
         "rawType": "int64",
         "type": "integer"
        },
        {
         "name": "dividends_paid",
         "rawType": "int64",
         "type": "integer"
        },
        {
         "name": "other_financing_activites",
         "rawType": "int64",
         "type": "integer"
        },
        {
         "name": "net_cash_used_provided_by_financing_activities",
         "rawType": "int64",
         "type": "integer"
        },
        {
         "name": "effect_of_forex_changes_on_cash",
         "rawType": "int64",
         "type": "integer"
        },
        {
         "name": "net_change_in_cash",
         "rawType": "int64",
         "type": "integer"
        },
        {
         "name": "cash_at_end_of_period",
         "rawType": "int64",
         "type": "integer"
        },
        {
         "name": "cash_at_beginning_of_period",
         "rawType": "int64",
         "type": "integer"
        },
        {
         "name": "operating_cash_flow",
         "rawType": "int64",
         "type": "integer"
        },
        {
         "name": "capital_expenditure",
         "rawType": "int64",
         "type": "integer"
        },
        {
         "name": "free_cash_flow",
         "rawType": "int64",
         "type": "integer"
        },
        {
         "name": "link",
         "rawType": "object",
         "type": "string"
        },
        {
         "name": "final_link",
         "rawType": "object",
         "type": "string"
        }
       ],
       "ref": "b0cd8cc1-eac5-47d3-a51f-a5325ad17dc5",
       "rows": [
        [
         "0",
         "2024-09-28 00:00:00",
         "AAPL",
         "USD",
         "0000320193",
         "2024-11-01 00:00:00",
         "2024-11-01 06:01:36",
         "2024",
         "FY",
         "93736000000",
         "11445000000",
         "0",
         "11688000000",
         "3651000000",
         "-5144000000",
         "-1046000000",
         "6020000000",
         "3821000000",
         "-2266000000",
         "118254000000",
         "-9447000000",
         "0",
         "-48656000000",
         "62346000000",
         "-1308000000",
         "2935000000",
         "-5998000000",
         "0",
         "-94949000000",
         "-15234000000",
         "-5802000000",
         "-121983000000",
         "0",
         "-794000000",
         "29943000000",
         "30737000000",
         "118254000000",
         "-9447000000",
         "108807000000",
         "https://www.sec.gov/Archives/edgar/data/320193/000032019324000123/0000320193-24-000123-index.htm",
         "https://www.sec.gov/Archives/edgar/data/320193/000032019324000123/aapl-20240928.htm"
        ],
        [
         "1",
         "2023-09-30 00:00:00",
         "AAPL",
         "USD",
         "0000320193",
         "2023-11-03 00:00:00",
         "2023-11-02 18:08:27",
         "2023",
         "FY",
         "96995000000",
         "11519000000",
         "0",
         "10833000000",
         "-6577000000",
         "-417000000",
         "-1618000000",
         "-1889000000",
         "-2653000000",
         "-2227000000",
         "110543000000",
         "-10959000000",
         "0",
         "-29513000000",
         "45514000000",
         "-1337000000",
         "3705000000",
         "-9901000000",
         "0",
         "-77550000000",
         "-15025000000",
         "-6012000000",
         "-108488000000",
         "0",
         "5760000000",
         "30737000000",
         "24977000000",
         "110543000000",
         "-10959000000",
         "99584000000",
         "https://www.sec.gov/Archives/edgar/data/320193/000032019323000106/0000320193-23-000106-index.htm",
         "https://www.sec.gov/Archives/edgar/data/320193/000032019323000106/aapl-20230930.htm"
        ],
        [
         "2",
         "2022-09-24 00:00:00",
         "AAPL",
         "USD",
         "0000320193",
         "2022-10-28 00:00:00",
         "2022-10-27 18:01:14",
         "2022",
         "FY",
         "99803000000",
         "11104000000",
         "895000000",
         "9038000000",
         "1200000000",
         "-9343000000",
         "1484000000",
         "9448000000",
         "-389000000",
         "111000000",
         "122151000000",
         "-10708000000",
         "-306000000",
         "-76923000000",
         "67363000000",
         "-1780000000",
         "-22354000000",
         "-123000000",
         "0",
         "-89402000000",
         "-14841000000",
         "-6383000000",
         "-110749000000",
         "0",
         "-10952000000",
         "24977000000",
         "35929000000",
         "122151000000",
         "-10708000000",
         "111443000000",
         "https://www.sec.gov/Archives/edgar/data/320193/000032019322000108/0000320193-22-000108-index.htm",
         "https://www.sec.gov/Archives/edgar/data/320193/000032019322000108/aapl-20220924.htm"
        ],
        [
         "3",
         "2021-09-25 00:00:00",
         "AAPL",
         "USD",
         "0000320193",
         "2021-10-29 00:00:00",
         "2021-10-28 18:04:28",
         "2021",
         "FY",
         "94680000000",
         "11284000000",
         "-4774000000",
         "7906000000",
         "-4911000000",
         "-14028000000",
         "-2642000000",
         "12326000000",
         "-567000000",
         "-147000000",
         "104038000000",
         "-11085000000",
         "-33000000",
         "-109558000000",
         "106483000000",
         "-385000000",
         "-14545000000",
         "12665000000",
         "1105000000",
         "-85971000000",
         "-14467000000",
         "-6685000000",
         "-93353000000",
         "0",
         "-3860000000",
         "35929000000",
         "39789000000",
         "104038000000",
         "-11085000000",
         "92953000000",
         "https://www.sec.gov/Archives/edgar/data/320193/000032019321000105/0000320193-21-000105-index.htm",
         "https://www.sec.gov/Archives/edgar/data/320193/000032019321000105/aapl-20210925.htm"
        ],
        [
         "4",
         "2020-09-26 00:00:00",
         "AAPL",
         "USD",
         "0000320193",
         "2020-10-30 00:00:00",
         "2020-10-29 18:06:25",
         "2020",
         "FY",
         "57411000000",
         "11056000000",
         "-215000000",
         "6829000000",
         "5690000000",
         "8470000000",
         "-127000000",
         "-4062000000",
         "1409000000",
         "-97000000",
         "80674000000",
         "-7309000000",
         "-1524000000",
         "-114938000000",
         "120391000000",
         "-909000000",
         "-4289000000",
         "2499000000",
         "880000000",
         "-72358000000",
         "-14081000000",
         "-3760000000",
         "-86820000000",
         "0",
         "-10435000000",
         "39789000000",
         "50224000000",
         "80674000000",
         "-7309000000",
         "73365000000",
         "https://www.sec.gov/Archives/edgar/data/320193/000032019320000096/0000320193-20-000096-index.htm",
         "https://www.sec.gov/Archives/edgar/data/320193/000032019320000096/aapl-20200926.htm"
        ]
       ],
       "shape": {
        "columns": 40,
        "rows": 5
       }
      },
      "text/html": [
       "<div>\n",
       "<style scoped>\n",
       "    .dataframe tbody tr th:only-of-type {\n",
       "        vertical-align: middle;\n",
       "    }\n",
       "\n",
       "    .dataframe tbody tr th {\n",
       "        vertical-align: top;\n",
       "    }\n",
       "\n",
       "    .dataframe thead th {\n",
       "        text-align: right;\n",
       "    }\n",
       "</style>\n",
       "<table border=\"1\" class=\"dataframe\">\n",
       "  <thead>\n",
       "    <tr style=\"text-align: right;\">\n",
       "      <th></th>\n",
       "      <th>date</th>\n",
       "      <th>symbol</th>\n",
       "      <th>reported_currency</th>\n",
       "      <th>cik</th>\n",
       "      <th>filling_date</th>\n",
       "      <th>accepted_date</th>\n",
       "      <th>calendar_year</th>\n",
       "      <th>period</th>\n",
       "      <th>net_income</th>\n",
       "      <th>depreciation_and_amortization</th>\n",
       "      <th>...</th>\n",
       "      <th>net_cash_used_provided_by_financing_activities</th>\n",
       "      <th>effect_of_forex_changes_on_cash</th>\n",
       "      <th>net_change_in_cash</th>\n",
       "      <th>cash_at_end_of_period</th>\n",
       "      <th>cash_at_beginning_of_period</th>\n",
       "      <th>operating_cash_flow</th>\n",
       "      <th>capital_expenditure</th>\n",
       "      <th>free_cash_flow</th>\n",
       "      <th>link</th>\n",
       "      <th>final_link</th>\n",
       "    </tr>\n",
       "  </thead>\n",
       "  <tbody>\n",
       "    <tr>\n",
       "      <th>0</th>\n",
       "      <td>2024-09-28</td>\n",
       "      <td>AAPL</td>\n",
       "      <td>USD</td>\n",
       "      <td>0000320193</td>\n",
       "      <td>2024-11-01</td>\n",
       "      <td>2024-11-01 06:01:36</td>\n",
       "      <td>2024</td>\n",
       "      <td>FY</td>\n",
       "      <td>93736000000</td>\n",
       "      <td>11445000000</td>\n",
       "      <td>...</td>\n",
       "      <td>-121983000000</td>\n",
       "      <td>0</td>\n",
       "      <td>-794000000</td>\n",
       "      <td>29943000000</td>\n",
       "      <td>30737000000</td>\n",
       "      <td>118254000000</td>\n",
       "      <td>-9447000000</td>\n",
       "      <td>108807000000</td>\n",
       "      <td>https://www.sec.gov/Archives/edgar/data/320193...</td>\n",
       "      <td>https://www.sec.gov/Archives/edgar/data/320193...</td>\n",
       "    </tr>\n",
       "    <tr>\n",
       "      <th>1</th>\n",
       "      <td>2023-09-30</td>\n",
       "      <td>AAPL</td>\n",
       "      <td>USD</td>\n",
       "      <td>0000320193</td>\n",
       "      <td>2023-11-03</td>\n",
       "      <td>2023-11-02 18:08:27</td>\n",
       "      <td>2023</td>\n",
       "      <td>FY</td>\n",
       "      <td>96995000000</td>\n",
       "      <td>11519000000</td>\n",
       "      <td>...</td>\n",
       "      <td>-108488000000</td>\n",
       "      <td>0</td>\n",
       "      <td>5760000000</td>\n",
       "      <td>30737000000</td>\n",
       "      <td>24977000000</td>\n",
       "      <td>110543000000</td>\n",
       "      <td>-10959000000</td>\n",
       "      <td>99584000000</td>\n",
       "      <td>https://www.sec.gov/Archives/edgar/data/320193...</td>\n",
       "      <td>https://www.sec.gov/Archives/edgar/data/320193...</td>\n",
       "    </tr>\n",
       "    <tr>\n",
       "      <th>2</th>\n",
       "      <td>2022-09-24</td>\n",
       "      <td>AAPL</td>\n",
       "      <td>USD</td>\n",
       "      <td>0000320193</td>\n",
       "      <td>2022-10-28</td>\n",
       "      <td>2022-10-27 18:01:14</td>\n",
       "      <td>2022</td>\n",
       "      <td>FY</td>\n",
       "      <td>99803000000</td>\n",
       "      <td>11104000000</td>\n",
       "      <td>...</td>\n",
       "      <td>-110749000000</td>\n",
       "      <td>0</td>\n",
       "      <td>-10952000000</td>\n",
       "      <td>24977000000</td>\n",
       "      <td>35929000000</td>\n",
       "      <td>122151000000</td>\n",
       "      <td>-10708000000</td>\n",
       "      <td>111443000000</td>\n",
       "      <td>https://www.sec.gov/Archives/edgar/data/320193...</td>\n",
       "      <td>https://www.sec.gov/Archives/edgar/data/320193...</td>\n",
       "    </tr>\n",
       "    <tr>\n",
       "      <th>3</th>\n",
       "      <td>2021-09-25</td>\n",
       "      <td>AAPL</td>\n",
       "      <td>USD</td>\n",
       "      <td>0000320193</td>\n",
       "      <td>2021-10-29</td>\n",
       "      <td>2021-10-28 18:04:28</td>\n",
       "      <td>2021</td>\n",
       "      <td>FY</td>\n",
       "      <td>94680000000</td>\n",
       "      <td>11284000000</td>\n",
       "      <td>...</td>\n",
       "      <td>-93353000000</td>\n",
       "      <td>0</td>\n",
       "      <td>-3860000000</td>\n",
       "      <td>35929000000</td>\n",
       "      <td>39789000000</td>\n",
       "      <td>104038000000</td>\n",
       "      <td>-11085000000</td>\n",
       "      <td>92953000000</td>\n",
       "      <td>https://www.sec.gov/Archives/edgar/data/320193...</td>\n",
       "      <td>https://www.sec.gov/Archives/edgar/data/320193...</td>\n",
       "    </tr>\n",
       "    <tr>\n",
       "      <th>4</th>\n",
       "      <td>2020-09-26</td>\n",
       "      <td>AAPL</td>\n",
       "      <td>USD</td>\n",
       "      <td>0000320193</td>\n",
       "      <td>2020-10-30</td>\n",
       "      <td>2020-10-29 18:06:25</td>\n",
       "      <td>2020</td>\n",
       "      <td>FY</td>\n",
       "      <td>57411000000</td>\n",
       "      <td>11056000000</td>\n",
       "      <td>...</td>\n",
       "      <td>-86820000000</td>\n",
       "      <td>0</td>\n",
       "      <td>-10435000000</td>\n",
       "      <td>39789000000</td>\n",
       "      <td>50224000000</td>\n",
       "      <td>80674000000</td>\n",
       "      <td>-7309000000</td>\n",
       "      <td>73365000000</td>\n",
       "      <td>https://www.sec.gov/Archives/edgar/data/320193...</td>\n",
       "      <td>https://www.sec.gov/Archives/edgar/data/320193...</td>\n",
       "    </tr>\n",
       "  </tbody>\n",
       "</table>\n",
       "<p>5 rows × 40 columns</p>\n",
       "</div>"
      ],
      "text/plain": [
       "        date symbol reported_currency         cik filling_date  \\\n",
       "0 2024-09-28   AAPL               USD  0000320193   2024-11-01   \n",
       "1 2023-09-30   AAPL               USD  0000320193   2023-11-03   \n",
       "2 2022-09-24   AAPL               USD  0000320193   2022-10-28   \n",
       "3 2021-09-25   AAPL               USD  0000320193   2021-10-29   \n",
       "4 2020-09-26   AAPL               USD  0000320193   2020-10-30   \n",
       "\n",
       "        accepted_date  calendar_year period   net_income  \\\n",
       "0 2024-11-01 06:01:36           2024     FY  93736000000   \n",
       "1 2023-11-02 18:08:27           2023     FY  96995000000   \n",
       "2 2022-10-27 18:01:14           2022     FY  99803000000   \n",
       "3 2021-10-28 18:04:28           2021     FY  94680000000   \n",
       "4 2020-10-29 18:06:25           2020     FY  57411000000   \n",
       "\n",
       "   depreciation_and_amortization  ...  \\\n",
       "0                    11445000000  ...   \n",
       "1                    11519000000  ...   \n",
       "2                    11104000000  ...   \n",
       "3                    11284000000  ...   \n",
       "4                    11056000000  ...   \n",
       "\n",
       "   net_cash_used_provided_by_financing_activities  \\\n",
       "0                                   -121983000000   \n",
       "1                                   -108488000000   \n",
       "2                                   -110749000000   \n",
       "3                                    -93353000000   \n",
       "4                                    -86820000000   \n",
       "\n",
       "   effect_of_forex_changes_on_cash  net_change_in_cash  cash_at_end_of_period  \\\n",
       "0                                0          -794000000            29943000000   \n",
       "1                                0          5760000000            30737000000   \n",
       "2                                0        -10952000000            24977000000   \n",
       "3                                0         -3860000000            35929000000   \n",
       "4                                0        -10435000000            39789000000   \n",
       "\n",
       "   cash_at_beginning_of_period  operating_cash_flow  capital_expenditure  \\\n",
       "0                  30737000000         118254000000          -9447000000   \n",
       "1                  24977000000         110543000000         -10959000000   \n",
       "2                  35929000000         122151000000         -10708000000   \n",
       "3                  39789000000         104038000000         -11085000000   \n",
       "4                  50224000000          80674000000          -7309000000   \n",
       "\n",
       "   free_cash_flow                                               link  \\\n",
       "0    108807000000  https://www.sec.gov/Archives/edgar/data/320193...   \n",
       "1     99584000000  https://www.sec.gov/Archives/edgar/data/320193...   \n",
       "2    111443000000  https://www.sec.gov/Archives/edgar/data/320193...   \n",
       "3     92953000000  https://www.sec.gov/Archives/edgar/data/320193...   \n",
       "4     73365000000  https://www.sec.gov/Archives/edgar/data/320193...   \n",
       "\n",
       "                                          final_link  \n",
       "0  https://www.sec.gov/Archives/edgar/data/320193...  \n",
       "1  https://www.sec.gov/Archives/edgar/data/320193...  \n",
       "2  https://www.sec.gov/Archives/edgar/data/320193...  \n",
       "3  https://www.sec.gov/Archives/edgar/data/320193...  \n",
       "4  https://www.sec.gov/Archives/edgar/data/320193...  \n",
       "\n",
       "[5 rows x 40 columns]"
      ]
     },
     "execution_count": 5,
     "metadata": {},
     "output_type": "execute_result"
    }
   ],
   "source": [
    "cf"
   ]
  },
  {
   "cell_type": "code",
   "execution_count": 6,
   "id": "a565c8db",
   "metadata": {},
   "outputs": [
    {
     "data": {
      "application/vnd.microsoft.datawrangler.viewer.v0+json": {
       "columns": [
        {
         "name": "index",
         "rawType": "int64",
         "type": "integer"
        },
        {
         "name": "free_cash_flow",
         "rawType": "int64",
         "type": "integer"
        }
       ],
       "ref": "f67ec830-fe4a-4b02-a278-0d5b0cdd46ac",
       "rows": [
        [
         "0",
         "102809000000"
        ],
        [
         "1",
         "89683000000"
        ],
        [
         "2",
         "111320000000"
        ],
        [
         "3",
         "105618000000"
        ],
        [
         "4",
         "75864000000"
        ]
       ],
       "shape": {
        "columns": 1,
        "rows": 5
       }
      },
      "text/html": [
       "<div>\n",
       "<style scoped>\n",
       "    .dataframe tbody tr th:only-of-type {\n",
       "        vertical-align: middle;\n",
       "    }\n",
       "\n",
       "    .dataframe tbody tr th {\n",
       "        vertical-align: top;\n",
       "    }\n",
       "\n",
       "    .dataframe thead th {\n",
       "        text-align: right;\n",
       "    }\n",
       "</style>\n",
       "<table border=\"1\" class=\"dataframe\">\n",
       "  <thead>\n",
       "    <tr style=\"text-align: right;\">\n",
       "      <th></th>\n",
       "      <th>free_cash_flow</th>\n",
       "    </tr>\n",
       "  </thead>\n",
       "  <tbody>\n",
       "    <tr>\n",
       "      <th>0</th>\n",
       "      <td>102809000000</td>\n",
       "    </tr>\n",
       "    <tr>\n",
       "      <th>1</th>\n",
       "      <td>89683000000</td>\n",
       "    </tr>\n",
       "    <tr>\n",
       "      <th>2</th>\n",
       "      <td>111320000000</td>\n",
       "    </tr>\n",
       "    <tr>\n",
       "      <th>3</th>\n",
       "      <td>105618000000</td>\n",
       "    </tr>\n",
       "    <tr>\n",
       "      <th>4</th>\n",
       "      <td>75864000000</td>\n",
       "    </tr>\n",
       "  </tbody>\n",
       "</table>\n",
       "</div>"
      ],
      "text/plain": [
       "   free_cash_flow\n",
       "0    102809000000\n",
       "1     89683000000\n",
       "2    111320000000\n",
       "3    105618000000\n",
       "4     75864000000"
      ]
     },
     "execution_count": 6,
     "metadata": {},
     "output_type": "execute_result"
    }
   ],
   "source": [
    "cf_cfo = cf['operating_cash_flow']\n",
    "cf_capex = cf['capital_expenditure']\n",
    "cf_net_debt = cf['debt_repayment']\n",
    "fcf = cf_cfo + cf_capex + cf_net_debt\n",
    "fcf_df = pd.DataFrame(fcf)\n",
    "fcf_df.columns = ['free_cash_flow']\n",
    "fcf_df"
   ]
  },
  {
   "cell_type": "code",
   "execution_count": 7,
   "id": "ae9d959b",
   "metadata": {},
   "outputs": [
    {
     "data": {
      "text/plain": [
       "np.float64(97058800000.0)"
      ]
     },
     "execution_count": 7,
     "metadata": {},
     "output_type": "execute_result"
    }
   ],
   "source": [
    "today_fcf = np.average(fcf_df['free_cash_flow'])\n",
    "today_fcf"
   ]
  },
  {
   "cell_type": "code",
   "execution_count": 8,
   "id": "8709a761",
   "metadata": {},
   "outputs": [
    {
     "data": {
      "application/vnd.microsoft.datawrangler.viewer.v0+json": {
       "columns": [
        {
         "name": "index",
         "rawType": "int64",
         "type": "integer"
        },
        {
         "name": "roe",
         "rawType": "float64",
         "type": "float"
        }
       ],
       "ref": "50a51cd6-0191-4360-865a-2435a6f131ed",
       "rows": [
        [
         "0",
         "1.6459350307287095"
        ],
        [
         "1",
         "1.5607601454639075"
        ],
        [
         "2",
         "1.9695887275023682"
        ],
        [
         "3",
         "1.5007132667617689"
        ],
        [
         "4",
         "0.8786635853012749"
        ]
       ],
       "shape": {
        "columns": 1,
        "rows": 5
       }
      },
      "text/html": [
       "<div>\n",
       "<style scoped>\n",
       "    .dataframe tbody tr th:only-of-type {\n",
       "        vertical-align: middle;\n",
       "    }\n",
       "\n",
       "    .dataframe tbody tr th {\n",
       "        vertical-align: top;\n",
       "    }\n",
       "\n",
       "    .dataframe thead th {\n",
       "        text-align: right;\n",
       "    }\n",
       "</style>\n",
       "<table border=\"1\" class=\"dataframe\">\n",
       "  <thead>\n",
       "    <tr style=\"text-align: right;\">\n",
       "      <th></th>\n",
       "      <th>roe</th>\n",
       "    </tr>\n",
       "  </thead>\n",
       "  <tbody>\n",
       "    <tr>\n",
       "      <th>0</th>\n",
       "      <td>1.645935</td>\n",
       "    </tr>\n",
       "    <tr>\n",
       "      <th>1</th>\n",
       "      <td>1.560760</td>\n",
       "    </tr>\n",
       "    <tr>\n",
       "      <th>2</th>\n",
       "      <td>1.969589</td>\n",
       "    </tr>\n",
       "    <tr>\n",
       "      <th>3</th>\n",
       "      <td>1.500713</td>\n",
       "    </tr>\n",
       "    <tr>\n",
       "      <th>4</th>\n",
       "      <td>0.878664</td>\n",
       "    </tr>\n",
       "  </tbody>\n",
       "</table>\n",
       "</div>"
      ],
      "text/plain": [
       "        roe\n",
       "0  1.645935\n",
       "1  1.560760\n",
       "2  1.969589\n",
       "3  1.500713\n",
       "4  0.878664"
      ]
     },
     "execution_count": 8,
     "metadata": {},
     "output_type": "execute_result"
    }
   ],
   "source": [
    "roe = cf['net_income'] / bs['total_equity']\n",
    "roe = pd.DataFrame(roe)\n",
    "roe.columns = ['roe']\n",
    "roe"
   ]
  },
  {
   "cell_type": "code",
   "execution_count": 9,
   "id": "cfe372c9",
   "metadata": {},
   "outputs": [
    {
     "data": {
      "text/plain": [
       "np.float64(1.5111321511516058)"
      ]
     },
     "execution_count": 9,
     "metadata": {},
     "output_type": "execute_result"
    }
   ],
   "source": [
    "avg_roe = np.average(roe['roe'])\n",
    "avg_roe\n"
   ]
  },
  {
   "cell_type": "code",
   "execution_count": null,
   "id": "9c14d4bd",
   "metadata": {},
   "outputs": [
    {
     "data": {
      "application/vnd.microsoft.datawrangler.viewer.v0+json": {
       "columns": [
        {
         "name": "index",
         "rawType": "int64",
         "type": "integer"
        },
        {
         "name": "reinv_rate",
         "rawType": "float64",
         "type": "float"
        }
       ],
       "ref": "7b6483ee-5f41-4617-b00d-7c9210737f7b",
       "rows": [
        [
         "0",
         "0.8374797303063924"
        ],
        [
         "1",
         "0.8450951079952574"
        ],
        [
         "2",
         "0.8512970551987415"
        ],
        [
         "3",
         "0.8472010984368399"
        ],
        [
         "4",
         "0.7547334134573513"
        ]
       ],
       "shape": {
        "columns": 1,
        "rows": 5
       }
      },
      "text/html": [
       "<div>\n",
       "<style scoped>\n",
       "    .dataframe tbody tr th:only-of-type {\n",
       "        vertical-align: middle;\n",
       "    }\n",
       "\n",
       "    .dataframe tbody tr th {\n",
       "        vertical-align: top;\n",
       "    }\n",
       "\n",
       "    .dataframe thead th {\n",
       "        text-align: right;\n",
       "    }\n",
       "</style>\n",
       "<table border=\"1\" class=\"dataframe\">\n",
       "  <thead>\n",
       "    <tr style=\"text-align: right;\">\n",
       "      <th></th>\n",
       "      <th>reinv_rate</th>\n",
       "    </tr>\n",
       "  </thead>\n",
       "  <tbody>\n",
       "    <tr>\n",
       "      <th>0</th>\n",
       "      <td>0.837480</td>\n",
       "    </tr>\n",
       "    <tr>\n",
       "      <th>1</th>\n",
       "      <td>0.845095</td>\n",
       "    </tr>\n",
       "    <tr>\n",
       "      <th>2</th>\n",
       "      <td>0.851297</td>\n",
       "    </tr>\n",
       "    <tr>\n",
       "      <th>3</th>\n",
       "      <td>0.847201</td>\n",
       "    </tr>\n",
       "    <tr>\n",
       "      <th>4</th>\n",
       "      <td>0.754733</td>\n",
       "    </tr>\n",
       "  </tbody>\n",
       "</table>\n",
       "</div>"
      ],
      "text/plain": [
       "   reinv_rate\n",
       "0    0.837480\n",
       "1    0.845095\n",
       "2    0.851297\n",
       "3    0.847201\n",
       "4    0.754733"
      ]
     },
     "execution_count": 18,
     "metadata": {},
     "output_type": "execute_result"
    }
   ],
   "source": [
    "reinv_rate = (cf['net_income'] + cf ['dividends_paid']) / cf['net_income']\n",
    "reinv_rate = pd.DataFrame(reinv_rate)\n",
    "reinv_rate.columns = ['reinv_rate']\n",
    "reinv_rate_avg = np.average(reinv_rate['reinv_rate'])\n",
    "reinv_rate_avg"
   ]
  },
  {
   "cell_type": "code",
   "execution_count": 11,
   "id": "a735fae4",
   "metadata": {},
   "outputs": [],
   "source": [
    "growth = avg_roe * reinv_rate_avg\n",
    "real_growth = 0\n",
    "if growth > 0.05:\n",
    "    real_growth = 0.05\n",
    "else:\n",
    "    pass\n"
   ]
  },
  {
   "cell_type": "code",
   "execution_count": 12,
   "id": "7f2c9460",
   "metadata": {},
   "outputs": [],
   "source": [
    "cost_e = 0.1"
   ]
  },
  {
   "cell_type": "code",
   "execution_count": 13,
   "id": "f04b65fc",
   "metadata": {},
   "outputs": [
    {
     "data": {
      "text/plain": [
       "0.05"
      ]
     },
     "execution_count": 13,
     "metadata": {},
     "output_type": "execute_result"
    }
   ],
   "source": [
    "real_growth"
   ]
  },
  {
   "cell_type": "code",
   "execution_count": 19,
   "id": "3369ce6e",
   "metadata": {},
   "outputs": [
    {
     "data": {
      "text/plain": [
       "np.float64(2242058280000.0)"
      ]
     },
     "execution_count": 19,
     "metadata": {},
     "output_type": "execute_result"
    }
   ],
   "source": [
    "dcf = (today_fcf * (1+real_growth)) + ((today_fcf * ((1+real_growth)**2))/(cost_e - real_growth))\n",
    "dcf"
   ]
  },
  {
   "cell_type": "code",
   "execution_count": 15,
   "id": "bcc5a1d4",
   "metadata": {},
   "outputs": [],
   "source": [
    "market_cap = fmp_get(\n",
    "    resource='market-capitalization',\n",
    "    symbol='AAPL',\n",
    "    params= {'date': \"2025-09-20\"},\n",
    "    to_pandas=True\n",
    ")"
   ]
  },
  {
   "cell_type": "code",
   "execution_count": 16,
   "id": "4ecb4455",
   "metadata": {},
   "outputs": [
    {
     "data": {
      "application/vnd.microsoft.datawrangler.viewer.v0+json": {
       "columns": [
        {
         "name": "index",
         "rawType": "int64",
         "type": "integer"
        },
        {
         "name": "symbol",
         "rawType": "object",
         "type": "string"
        },
        {
         "name": "date",
         "rawType": "datetime64[ms]",
         "type": "unknown"
        },
        {
         "name": "market_cap",
         "rawType": "int64",
         "type": "integer"
        }
       ],
       "ref": "9c0aef19-3415-4623-bc31-5cc1bf084c29",
       "rows": [
        [
         "0",
         "AAPL",
         "2025-09-19 00:00:00",
         "3643315745000"
        ]
       ],
       "shape": {
        "columns": 3,
        "rows": 1
       }
      },
      "text/html": [
       "<div>\n",
       "<style scoped>\n",
       "    .dataframe tbody tr th:only-of-type {\n",
       "        vertical-align: middle;\n",
       "    }\n",
       "\n",
       "    .dataframe tbody tr th {\n",
       "        vertical-align: top;\n",
       "    }\n",
       "\n",
       "    .dataframe thead th {\n",
       "        text-align: right;\n",
       "    }\n",
       "</style>\n",
       "<table border=\"1\" class=\"dataframe\">\n",
       "  <thead>\n",
       "    <tr style=\"text-align: right;\">\n",
       "      <th></th>\n",
       "      <th>symbol</th>\n",
       "      <th>date</th>\n",
       "      <th>market_cap</th>\n",
       "    </tr>\n",
       "  </thead>\n",
       "  <tbody>\n",
       "    <tr>\n",
       "      <th>0</th>\n",
       "      <td>AAPL</td>\n",
       "      <td>2025-09-19</td>\n",
       "      <td>3643315745000</td>\n",
       "    </tr>\n",
       "  </tbody>\n",
       "</table>\n",
       "</div>"
      ],
      "text/plain": [
       "  symbol       date     market_cap\n",
       "0   AAPL 2025-09-19  3643315745000"
      ]
     },
     "execution_count": 16,
     "metadata": {},
     "output_type": "execute_result"
    }
   ],
   "source": [
    "market_cap"
   ]
  },
  {
   "cell_type": "code",
   "execution_count": 17,
   "id": "1b94744b",
   "metadata": {},
   "outputs": [
    {
     "data": {
      "application/vnd.microsoft.datawrangler.viewer.v0+json": {
       "columns": [
        {
         "name": "index",
         "rawType": "int64",
         "type": "integer"
        },
        {
         "name": "market_cap",
         "rawType": "float64",
         "type": "float"
        }
       ],
       "ref": "e240f7c5-d38d-4e37-93e4-8bc6ba5cfe96",
       "rows": [
        [
         "0",
         "0.6153895069558403"
        ]
       ],
       "shape": {
        "columns": 1,
        "rows": 1
       }
      },
      "text/plain": [
       "0    0.61539\n",
       "Name: market_cap, dtype: float64"
      ]
     },
     "execution_count": 17,
     "metadata": {},
     "output_type": "execute_result"
    }
   ],
   "source": [
    "ir = dcf / market_cap['market_cap']\n",
    "ir"
   ]
  }
 ],
 "metadata": {
  "kernelspec": {
   "display_name": "mac-env",
   "language": "python",
   "name": "python3"
  },
  "language_info": {
   "codemirror_mode": {
    "name": "ipython",
    "version": 3
   },
   "file_extension": ".py",
   "mimetype": "text/x-python",
   "name": "python",
   "nbconvert_exporter": "python",
   "pygments_lexer": "ipython3",
   "version": "3.12.11"
  }
 },
 "nbformat": 4,
 "nbformat_minor": 5
}
